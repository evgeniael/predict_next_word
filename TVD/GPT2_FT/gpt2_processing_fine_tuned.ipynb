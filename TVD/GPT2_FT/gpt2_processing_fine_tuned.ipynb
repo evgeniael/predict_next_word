{
 "cells": [
  {
   "cell_type": "code",
   "execution_count": 1,
   "metadata": {},
   "outputs": [],
   "source": [
    "#Importing relevant libraries\n",
    "import numpy as np\n",
    "import pandas as pd\n",
    "import torch\n",
    "from collections import Counter\n",
    "\n",
    "import random\n",
    "import os\n",
    "import re\n",
    "import json"
   ]
  },
  {
   "cell_type": "code",
   "execution_count": 2,
   "metadata": {},
   "outputs": [],
   "source": [
    "def get_provo_data(input_data):\n",
    "    \"\"\"A function that takes all .json files we created with info for the Provo Corpus\n",
    "    and merges it into one dictionary\"\"\"\n",
    "    \n",
    "    #We merge all information in one dictionary\n",
    "    # Each data point corresponds to all the information relevant to us for a given context in Provo Corpus\n",
    "    joint_dict = {}\n",
    "    \n",
    "    count = 0\n",
    "    for filename in input_data:\n",
    "        f = open(filename)\n",
    "        data = json.load(f)\n",
    "        f.close()\n",
    "\n",
    "        for text_id in data.keys():\n",
    "            if (int(text_id) > 0) & (int(text_id) <= 40):\n",
    "                for word_num in data[text_id].keys():\n",
    "                    joint_dict[count] = data[text_id][word_num]\n",
    "                    joint_dict[count]['original_positioning'] = {'text_id':text_id, 'word_num':word_num}\n",
    "                \n",
    "                    count = count + 1\n",
    "\n",
    "    return joint_dict"
   ]
  },
  {
   "cell_type": "code",
   "execution_count": 3,
   "metadata": {},
   "outputs": [],
   "source": [
    "os.chdir('/home/eilia/calibration_project/output/data_preprocessing_words')\n",
    "\n",
    "input_data = ['Paragraphs-1-1.json', 'Paragraphs-2-2.json', 'Paragraphs-3-3_fixed.json',\n",
    "    'Paragraphs-4-4.json', 'Paragraphs-5-9.json', 'Paragraphs-10-14_fixed.json', \n",
    "    'Paragraphs-15-19.json', 'Paragraphs-20-24.json', 'Paragraphs-25-29.json',\n",
    "    'Paragraphs-30-34.json', 'Paragraphs-35-39_fixed.json', 'Paragraphs-40-44.json']\n",
    "    # 'Paragraphs-45-47.json', 'Paragraphs-48-50.json', 'Paragraphs-51-53.json',\n",
    "    #  'Paragraphs-54-55.json']\n",
    "\n",
    "d = get_provo_data(input_data)\n"
   ]
  },
  {
   "cell_type": "code",
   "execution_count": 4,
   "metadata": {},
   "outputs": [],
   "source": [
    "os.chdir('/home/eilia/calibration_project/output/data_preprocessing_words_fine_tuned')\n",
    "\n",
    "input_data = ['Paragraphs-1-1_fine_tuned.json', 'Paragraphs-2-3_fine_tuned.json', 'Paragraphs-4-7_fine_tuned.json',\n",
    "        'Paragraphs-8-10_fine_tuned.json', 'Paragraphs-11-14_fine_tuned.json', 'Paragraphs-15-17_fine_tuned.json',\n",
    "        'Paragraphs-18-20_fine_tuned.json', 'Paragraphs-21-24_fine_tuned.json', 'Paragraphs-25-28_fine_tuned.json',\n",
    "        'Paragraphs-29-30_fine_tuned.json', 'Paragraphs-31-33_fine_tuned.json', 'Paragraphs-34-36_fine_tuned.json',\n",
    "         'Paragraphs-37-38_fine_tuned.json', 'Paragraphs-39-40_fine_tuned.json']\n",
    "\n",
    "d_fine_tuned = get_provo_data(input_data)\n"
   ]
  },
  {
   "cell_type": "code",
   "execution_count": 5,
   "metadata": {},
   "outputs": [],
   "source": [
    "human_samples = []\n",
    "original_corpus_words = []\n",
    "gpt2_samples = []\n",
    "\n",
    "for key in d.keys():\n",
    "    human_samp= [[x['pred']]*int(x['count']) for x in d[key]['human']]\n",
    "    human_samp = [item for sublist in human_samp for item in sublist]\n",
    "    original_word = d[key]['original']['pred']\n",
    "    gpt2_samp = [x for x in d[key]['ancestral_samples']]\n",
    "    gpt2_samp = [[x['pred']]*int(x['count']) for x in gpt2_samp]\n",
    "    gpt2_samp = [item.lower() for sublist in gpt2_samp for item in sublist]\n",
    "\n",
    "    human_samples.append(human_samp)\n",
    "    gpt2_samples.append(gpt2_samp)\n",
    "    original_corpus_words.append([original_word])"
   ]
  },
  {
   "cell_type": "code",
   "execution_count": 6,
   "metadata": {},
   "outputs": [],
   "source": [
    "human_samples_fine_tuned = []\n",
    "original_corpus_words_fine_tuned = []\n",
    "gpt2_samples_fine_tuned = []\n",
    "\n",
    "for key in d_fine_tuned.keys():\n",
    "    human_samp= [[x['pred']]*int(x['count']) for x in d_fine_tuned[key]['human']]\n",
    "    human_samp = [item for sublist in human_samp for item in sublist]\n",
    "    original_word = d_fine_tuned[key]['original']['pred']\n",
    "    gpt2_samp = [x for x in d_fine_tuned[key]['ancestral_samples']]\n",
    "    gpt2_samp = [[x['pred']]*int(x['count']) for x in gpt2_samp]\n",
    "    gpt2_samp = [item.lower() for sublist in gpt2_samp for item in sublist]\n",
    "\n",
    "    human_samples_fine_tuned.append(human_samp)\n",
    "    gpt2_samples_fine_tuned.append(gpt2_samp)\n",
    "    original_corpus_words_fine_tuned.append([original_word])"
   ]
  },
  {
   "cell_type": "code",
   "execution_count": 7,
   "metadata": {},
   "outputs": [],
   "source": [
    "def sample_oracle_without_replacement_disjoint_groups(words, seed, N = 20):\n",
    "    \"\"\"We create two disjoint subsets of the human distribution by sampling without replacement from\n",
    "    the human distribution (the two disjoing subsets can be comprised by either 10 or 20 samples\"\"\"\n",
    "    #Create a list with all human answers in a flattened out list ['are', 'are', 'they', ..., 'one']\n",
    "    random.seed(seed)\n",
    "\n",
    "    #if the length of the list is odd, we remove one element at random to make the list even,\n",
    "    #since we want the two disjoint subsets to be of equal length\n",
    "    if (len(words) % 2 == 1): \n",
    "        remove_word = random.sample(words, 1)\n",
    "        words.remove(remove_word[0])\n",
    "\n",
    "    #We sample the words that will belong in the first subset and create the second subset by removing\n",
    "    #from the full word list the ones sampled in the first subset\n",
    "    subset1 = random.sample(words, N)\n",
    "    if N == 20:\n",
    "        subset2 = words.copy()\n",
    "        for item in subset1:\n",
    "            subset2.remove(item)\n",
    "    elif N == 10:\n",
    "        subset_left = words.copy()\n",
    "        for item in subset1:\n",
    "            subset_left.remove(item)\n",
    "        subset2 = random.sample(subset_left, N)\n",
    "        \n",
    "    return subset1, subset2"
   ]
  },
  {
   "cell_type": "code",
   "execution_count": 9,
   "metadata": {},
   "outputs": [],
   "source": [
    "def get_estimator_unbiased(words):\n",
    "    \"\"\"For each data point we compute the estimator where the words belong to the unbiased distribution\"\"\"\n",
    "    #Check for failed to generate full-word samples and remove those\n",
    "    fail = [d for d in words if d == 'Failed to generate word']\n",
    "    if len(fail) > 0:\n",
    "        words = [x for x in words if x != 'Failed to generate word']\n",
    "    \n",
    "    words = [x for x in words if str(x) != 'nan']\n",
    "    words = [word.lower() for word in words]\n",
    "    dict_words = dict(Counter(words))\n",
    "    support = list(dict_words.keys())\n",
    "    counts = list(dict_words.values())\n",
    "    probs = torch.Tensor([x/sum(counts) for x in counts])\n",
    "\n",
    "    return support, probs"
   ]
  },
  {
   "cell_type": "code",
   "execution_count": 10,
   "metadata": {},
   "outputs": [],
   "source": [
    "def get_ece_data( assess_words, assess_probs, gold_label_words, gold_label_probs):\n",
    "    \"\"\"Considering the estimator distribution, we obtain the word (and its confidence) with the maximum \n",
    "    probability. For computing accuracy we consider if this word matches the true label (which we consider for \n",
    "    both the cases where they are either the original text word and human majority word\"\"\"\n",
    "    gold_label_probs = gold_label_probs.tolist()\n",
    "    gold_label_majority_word = gold_label_words[gold_label_probs.index(max(gold_label_probs))]\n",
    "    \n",
    "    p_max_word = assess_words[torch.argmax(assess_probs).item()]\n",
    "    human_maj = (torch.max(assess_probs).item(), int(p_max_word == gold_label_majority_word)) \n",
    "\n",
    "    return human_maj"
   ]
  },
  {
   "cell_type": "code",
   "execution_count": 11,
   "metadata": {},
   "outputs": [],
   "source": [
    "def compute_TVD(probs1, probs2):\n",
    "    tvd = torch.sum(torch.abs(probs1 - probs2))/2\n",
    "    return tvd.item()"
   ]
  },
  {
   "cell_type": "code",
   "execution_count": 12,
   "metadata": {},
   "outputs": [],
   "source": [
    "def compute_entropy(probs):\n",
    "    #For zero probability values of p in p log p, the contribution to entropy is 0, hence we take only\n",
    "    #non zero p values into account\n",
    "    non_zero_probs = probs[probs > 0]\n",
    "    entropy_probs = - torch.sum(torch.multiply(non_zero_probs, torch.log(non_zero_probs)))\n",
    "\n",
    "    return entropy_probs.tolist()"
   ]
  },
  {
   "cell_type": "code",
   "execution_count": 13,
   "metadata": {},
   "outputs": [],
   "source": [
    "def get_tvd_per_instance_for_unbiased_est_dist_and_oracle(model_words, model_probs, oracle_words, oracle_probs):\n",
    "        \"\"\"Given the distribution (from the model), we retrieve the human distribution for the same words,\n",
    "        and then compute TVD for the instance level\"\"\"\n",
    "\n",
    "        #We know that the items of the model distribution and the oracle distribution are not currently aligned\n",
    "        #Thus, before computing the TVD between them we first need to align the sample space and probabilities between\n",
    "        #the two distributions\n",
    "        human_probs = []\n",
    "        \n",
    "        list_model_probs = model_probs.tolist()\n",
    "        list_words = model_words.copy()\n",
    "\n",
    "        #For the unbiased distributions, the sampled words may not necessarily include all human words. Hence,\n",
    "        # before creating the human distribution, we add to the model one the ones that are missing with a respective \n",
    "        # probability of zero\n",
    "        list_missing = list(set(oracle_words) - set(list_words)) #set of human words that are not in the model distribution words\n",
    "\n",
    "        for missing_word in list_missing:\n",
    "            list_words.append(missing_word)\n",
    "            list_model_probs.append(0)\n",
    "        \n",
    "        #Similarly to the biased dist., we iterate over all words and the human dist. probabilities are either the retrieved\n",
    "        #probability from the oracle dist. or zero\n",
    "        for word in list_words:\n",
    "            try:\n",
    "                index_word = oracle_words.index(word)\n",
    "                human_probs.append(oracle_probs[index_word].item())\n",
    "            except:\n",
    "                human_probs.append(0)\n",
    "\n",
    "        tvd = compute_TVD(torch.Tensor(human_probs), torch.Tensor(list_model_probs))\n",
    "        return(tvd)"
   ]
  },
  {
   "cell_type": "code",
   "execution_count": 14,
   "metadata": {},
   "outputs": [],
   "source": [
    "def calculate_ECE(conf_acc, ece_bins = 10):\n",
    "    \"\"\"Function that given a list of tuples including the confidence of each prediction and if it matches the\n",
    "    true label computes the ECE. To do that, we split the confidence space (0,1) in bins, separate predictions\n",
    "    according to the bins, calculate the average confidence per bin and the accuracy per bin and take their weighted\n",
    "    average.\"\"\"\n",
    "    bins = ece_bins\n",
    "    conf_acc_array = np.array(conf_acc)\n",
    "    N = conf_acc_array.shape[0]\n",
    "        \n",
    "    sum_bin = 0\n",
    "    for i in np.arange(0, 1, 1/bins):\n",
    "        #getting all points which belong to the relevant bin - given their \n",
    "        bin_contents = conf_acc_array[np.where((conf_acc_array[:,0] >= i) & (conf_acc_array[:,0] < (i + 1/bins)))]\n",
    "        n_bin = bin_contents[:,0].shape[0]\n",
    "        if n_bin > 0: #if the bin is non empty\n",
    "            avg_conf = np.sum(bin_contents[:,0]) / n_bin\n",
    "            acc = np.sum(bin_contents[:,1]) / n_bin\n",
    "            sum_bin = sum_bin + abs(avg_conf - acc) * n_bin / N\n",
    "        \n",
    "    ece_val = sum_bin\n",
    "    return(ece_val) "
   ]
  },
  {
   "cell_type": "code",
   "execution_count": 15,
   "metadata": {},
   "outputs": [],
   "source": [
    "tvd_gpt2_human_fine_tuned = []\n",
    "tvd_gpt2_oracle_fine_tuned = []\n",
    "tvd_oracle2_human_fine_tuned = []\n",
    "tvd_oracle1_human_fine_tuned = []\n",
    "\n",
    "ece_gpt2_human_maj_fine_tuned = []\n",
    "ece_gpt2_corpus_word_fine_tuned = []\n",
    "ece_gpt2_oracle_maj_fine_tuned = {}\n",
    "\n",
    "entropy_gpt2_fine_tuned = []\n",
    "entropy_human_fine_tuned = []\n",
    "entropy_oracle_fine_tuned = []\n",
    "\n",
    "for k in range(20):\n",
    "    ece_gpt2_oracle_maj_fine_tuned[k] = []\n",
    "\n",
    "for i in range(len(gpt2_samples) - 1):\n",
    "    human_support, human_probs = get_estimator_unbiased(human_samples_fine_tuned[i])\n",
    "    gpt2_support, gpt2_probs = get_estimator_unbiased(gpt2_samples_fine_tuned[i])\n",
    "    corpus_support = original_corpus_words[i]\n",
    "    corpus_probs = torch.Tensor([1])\n",
    "    oracle_1, oracle_2 = sample_oracle_without_replacement_disjoint_groups(human_samples_fine_tuned[i], seed =1)\n",
    "    oracle1_support, oracle1_probs = get_estimator_unbiased(oracle_1)\n",
    "    oracle2_support, oracle2_probs = get_estimator_unbiased(oracle_2)\n",
    "\n",
    "    tvd_gpt2_human_fine_tuned.append(get_tvd_per_instance_for_unbiased_est_dist_and_oracle(gpt2_support, gpt2_probs, human_support, human_probs ))\n",
    "    tvd_gpt2_oracle_fine_tuned.append(get_tvd_per_instance_for_unbiased_est_dist_and_oracle(gpt2_support, gpt2_probs, oracle1_support, oracle1_probs ))\n",
    "    tvd_oracle2_human_fine_tuned.append(get_tvd_per_instance_for_unbiased_est_dist_and_oracle(oracle2_support, oracle2_probs, human_support, human_probs ))\n",
    "    tvd_oracle1_human_fine_tuned.append(get_tvd_per_instance_for_unbiased_est_dist_and_oracle(oracle1_support, oracle1_probs, human_support, human_probs ))\n",
    "\n",
    "    entropy_gpt2_fine_tuned.append(compute_entropy(gpt2_probs))\n",
    "    entropy_human_fine_tuned.append(compute_entropy(human_probs))\n",
    "    entropy_oracle_fine_tuned.append(compute_entropy(oracle1_probs))\n",
    "\n",
    "    ece_gpt2_human_maj_fine_tuned.append(get_ece_data( gpt2_support, gpt2_probs, human_support, human_probs))\n",
    "    ece_gpt2_corpus_word_fine_tuned.append(get_ece_data( gpt2_support, gpt2_probs, corpus_support, corpus_probs))\n",
    "    \n",
    "    for k in range(20):\n",
    "        oracle_1, oracle_2 = sample_oracle_without_replacement_disjoint_groups(human_samples[i], k)\n",
    "        oracle_support, oracle_probs = get_estimator_unbiased(oracle_1)\n",
    "        ece_gpt2_oracle_maj_fine_tuned[k].append(get_ece_data( gpt2_support, gpt2_probs, oracle_support, oracle_probs))\n"
   ]
  },
  {
   "cell_type": "code",
   "execution_count": 16,
   "metadata": {},
   "outputs": [
    {
     "data": {
      "text/plain": [
       "0.6557557813015306"
      ]
     },
     "execution_count": 16,
     "metadata": {},
     "output_type": "execute_result"
    }
   ],
   "source": [
    "sum(tvd_gpt2_human_fine_tuned)/len(tvd_gpt2_human_fine_tuned)"
   ]
  },
  {
   "cell_type": "code",
   "execution_count": 17,
   "metadata": {},
   "outputs": [],
   "source": [
    "tvd_gpt2_human = []\n",
    "tvd_gpt2_oracle = []\n",
    "tvd_oracle2_human = []\n",
    "tvd_oracle1_human = []\n",
    "\n",
    "ece_gpt2_human_maj = []\n",
    "ece_gpt2_corpus_word = []\n",
    "ece_gpt2_oracle_maj = {}\n",
    "\n",
    "entropy_gpt2 = []\n",
    "entropy_human = []\n",
    "entropy_oracle = []\n",
    "\n",
    "for k in range(20):\n",
    "    ece_gpt2_oracle_maj[k] = []\n",
    "\n",
    "for i in range(len(gpt2_samples) - 1):\n",
    "    human_support, human_probs = get_estimator_unbiased(human_samples[i])\n",
    "    gpt2_support, gpt2_probs = get_estimator_unbiased(gpt2_samples[i])\n",
    "    corpus_support = original_corpus_words[i]\n",
    "    corpus_probs = torch.Tensor([1])\n",
    "    oracle_1, oracle_2 = sample_oracle_without_replacement_disjoint_groups(human_samples[i], seed =1)\n",
    "    oracle1_support, oracle1_probs = get_estimator_unbiased(oracle_1)\n",
    "    oracle2_support, oracle2_probs = get_estimator_unbiased(oracle_2)\n",
    "\n",
    "    tvd_gpt2_human.append(get_tvd_per_instance_for_unbiased_est_dist_and_oracle(gpt2_support, gpt2_probs, human_support, human_probs ))\n",
    "    tvd_gpt2_oracle.append(get_tvd_per_instance_for_unbiased_est_dist_and_oracle(gpt2_support, gpt2_probs, oracle1_support, oracle1_probs ))\n",
    "    tvd_oracle2_human.append(get_tvd_per_instance_for_unbiased_est_dist_and_oracle(oracle2_support, oracle2_probs, human_support, human_probs ))\n",
    "    tvd_oracle1_human.append(get_tvd_per_instance_for_unbiased_est_dist_and_oracle(oracle1_support, oracle1_probs, human_support, human_probs ))\n",
    "\n",
    "    entropy_gpt2.append(compute_entropy(gpt2_probs))\n",
    "    entropy_human.append(compute_entropy(human_probs))\n",
    "    entropy_oracle.append(compute_entropy(oracle1_probs))\n",
    "\n",
    "    ece_gpt2_human_maj.append(get_ece_data( gpt2_support, gpt2_probs, human_support, human_probs))\n",
    "    ece_gpt2_corpus_word.append(get_ece_data( gpt2_support, gpt2_probs, corpus_support, corpus_probs))\n",
    "    \n",
    "    for k in range(20):\n",
    "        oracle_1, oracle_2 = sample_oracle_without_replacement_disjoint_groups(human_samples[i], k)\n",
    "        oracle_support, oracle_probs = get_estimator_unbiased(oracle_1)\n",
    "        ece_gpt2_oracle_maj[k].append(get_ece_data( gpt2_support, gpt2_probs, oracle_support, oracle_probs))\n"
   ]
  },
  {
   "cell_type": "code",
   "execution_count": 18,
   "metadata": {},
   "outputs": [],
   "source": [
    "gpt2_ft = {}\n",
    "gpt2_ft['tvd_gpt2_human_fine_tuned'] = tvd_gpt2_human_fine_tuned\n",
    "gpt2_ft['tvd_gpt2_oracle_fine_tuned'] = tvd_gpt2_oracle_fine_tuned\n",
    "gpt2_ft['tvd_gpt2_human'] = tvd_gpt2_human\n"
   ]
  },
  {
   "cell_type": "code",
   "execution_count": 24,
   "metadata": {},
   "outputs": [],
   "source": [
    "json_string = json.dumps(gpt2_ft)\n",
    "\n",
    "with open('tvd_gpt2_ft_new.json', 'w') as outfile:\n",
    "    outfile.write(json_string)"
   ]
  },
  {
   "cell_type": "code",
   "execution_count": 19,
   "metadata": {},
   "outputs": [
    {
     "name": "stdout",
     "output_type": "stream",
     "text": [
      "0.20857453393541647\n",
      "0.21821014464140612\n"
     ]
    }
   ],
   "source": [
    "print(calculate_ECE(ece_gpt2_human_maj))\n",
    "print(calculate_ECE(ece_gpt2_human_maj_fine_tuned))"
   ]
  },
  {
   "cell_type": "code",
   "execution_count": 20,
   "metadata": {},
   "outputs": [
    {
     "name": "stdout",
     "output_type": "stream",
     "text": [
      "0.025521739227427308\n"
     ]
    },
    {
     "data": {
      "text/plain": [
       "0.025976190580668294"
      ]
     },
     "execution_count": 20,
     "metadata": {},
     "output_type": "execute_result"
    }
   ],
   "source": [
    "print(calculate_ECE(ece_gpt2_corpus_word))\n",
    "calculate_ECE(ece_gpt2_corpus_word_fine_tuned)"
   ]
  },
  {
   "cell_type": "code",
   "execution_count": 21,
   "metadata": {},
   "outputs": [],
   "source": [
    "ece_subsamples = []\n",
    "ece_subsamples_fine_tuned = []\n",
    "for i in range(20):\n",
    "    ece_subsamples.append(calculate_ECE(ece_gpt2_oracle_maj[i]))\n",
    "    ece_subsamples_fine_tuned.append(calculate_ECE(ece_gpt2_oracle_maj_fine_tuned[i]))"
   ]
  },
  {
   "cell_type": "code",
   "execution_count": 22,
   "metadata": {},
   "outputs": [
    {
     "name": "stdout",
     "output_type": "stream",
     "text": [
      "0.015823849932579143\n",
      "0.015301488724448888\n"
     ]
    }
   ],
   "source": [
    "print(np.std(ece_subsamples))\n",
    "print(np.std(ece_subsamples_fine_tuned))"
   ]
  },
  {
   "cell_type": "code",
   "execution_count": 23,
   "metadata": {},
   "outputs": [
    {
     "name": "stdout",
     "output_type": "stream",
     "text": [
      "0.18908695629566488\n",
      "0.18646066229651617\n"
     ]
    }
   ],
   "source": [
    "print(np.mean(ece_subsamples))\n",
    "print(np.mean(ece_subsamples_fine_tuned))"
   ]
  },
  {
   "cell_type": "code",
   "execution_count": 25,
   "metadata": {},
   "outputs": [
    {
     "name": "stdout",
     "output_type": "stream",
     "text": [
      "1932 1932 1932\n"
     ]
    }
   ],
   "source": [
    "print( len(tvd_gpt2_human), len(tvd_gpt2_human_fine_tuned), len(tvd_oracle2_human))"
   ]
  },
  {
   "cell_type": "code",
   "execution_count": 26,
   "metadata": {},
   "outputs": [],
   "source": [
    "model_column = [['Oracle']*len(tvd_oracle2_human)]\n",
    "model_column.append(['GPT2']*len(tvd_gpt2_human))\n",
    "model_column.append(['GPT2 Fine Tuned']*len(tvd_gpt2_human_fine_tuned))"
   ]
  },
  {
   "cell_type": "code",
   "execution_count": 27,
   "metadata": {},
   "outputs": [],
   "source": [
    "model_column = [item for sublist in model_column for item in sublist]"
   ]
  },
  {
   "cell_type": "code",
   "execution_count": 28,
   "metadata": {},
   "outputs": [],
   "source": [
    "tvd_column = [tvd_oracle2_human]\n",
    "tvd_column.append(tvd_gpt2_human)\n",
    "tvd_column.append(tvd_gpt2_human_fine_tuned)"
   ]
  },
  {
   "cell_type": "code",
   "execution_count": 29,
   "metadata": {},
   "outputs": [],
   "source": [
    "tvd_column = [item for sublist in tvd_column for item in sublist]"
   ]
  },
  {
   "cell_type": "code",
   "execution_count": 30,
   "metadata": {},
   "outputs": [
    {
     "data": {
      "text/html": [
       "<div>\n",
       "<style scoped>\n",
       "    .dataframe tbody tr th:only-of-type {\n",
       "        vertical-align: middle;\n",
       "    }\n",
       "\n",
       "    .dataframe tbody tr th {\n",
       "        vertical-align: top;\n",
       "    }\n",
       "\n",
       "    .dataframe thead th {\n",
       "        text-align: right;\n",
       "    }\n",
       "</style>\n",
       "<table border=\"1\" class=\"dataframe\">\n",
       "  <thead>\n",
       "    <tr style=\"text-align: right;\">\n",
       "      <th></th>\n",
       "      <th>Model</th>\n",
       "      <th>TVD</th>\n",
       "    </tr>\n",
       "  </thead>\n",
       "  <tbody>\n",
       "    <tr>\n",
       "      <th>0</th>\n",
       "      <td>Oracle</td>\n",
       "      <td>0.200000</td>\n",
       "    </tr>\n",
       "    <tr>\n",
       "      <th>1</th>\n",
       "      <td>Oracle</td>\n",
       "      <td>0.275000</td>\n",
       "    </tr>\n",
       "    <tr>\n",
       "      <th>2</th>\n",
       "      <td>Oracle</td>\n",
       "      <td>0.275000</td>\n",
       "    </tr>\n",
       "    <tr>\n",
       "      <th>3</th>\n",
       "      <td>Oracle</td>\n",
       "      <td>0.250000</td>\n",
       "    </tr>\n",
       "    <tr>\n",
       "      <th>4</th>\n",
       "      <td>Oracle</td>\n",
       "      <td>0.300000</td>\n",
       "    </tr>\n",
       "    <tr>\n",
       "      <th>...</th>\n",
       "      <td>...</td>\n",
       "      <td>...</td>\n",
       "    </tr>\n",
       "    <tr>\n",
       "      <th>5791</th>\n",
       "      <td>GPT2 Fine Tuned</td>\n",
       "      <td>0.608526</td>\n",
       "    </tr>\n",
       "    <tr>\n",
       "      <th>5792</th>\n",
       "      <td>GPT2 Fine Tuned</td>\n",
       "      <td>0.591105</td>\n",
       "    </tr>\n",
       "    <tr>\n",
       "      <th>5793</th>\n",
       "      <td>GPT2 Fine Tuned</td>\n",
       "      <td>0.720000</td>\n",
       "    </tr>\n",
       "    <tr>\n",
       "      <th>5794</th>\n",
       "      <td>GPT2 Fine Tuned</td>\n",
       "      <td>0.520000</td>\n",
       "    </tr>\n",
       "    <tr>\n",
       "      <th>5795</th>\n",
       "      <td>GPT2 Fine Tuned</td>\n",
       "      <td>0.502947</td>\n",
       "    </tr>\n",
       "  </tbody>\n",
       "</table>\n",
       "<p>5796 rows × 2 columns</p>\n",
       "</div>"
      ],
      "text/plain": [
       "                Model       TVD\n",
       "0              Oracle  0.200000\n",
       "1              Oracle  0.275000\n",
       "2              Oracle  0.275000\n",
       "3              Oracle  0.250000\n",
       "4              Oracle  0.300000\n",
       "...               ...       ...\n",
       "5791  GPT2 Fine Tuned  0.608526\n",
       "5792  GPT2 Fine Tuned  0.591105\n",
       "5793  GPT2 Fine Tuned  0.720000\n",
       "5794  GPT2 Fine Tuned  0.520000\n",
       "5795  GPT2 Fine Tuned  0.502947\n",
       "\n",
       "[5796 rows x 2 columns]"
      ]
     },
     "execution_count": 30,
     "metadata": {},
     "output_type": "execute_result"
    }
   ],
   "source": [
    "tvd = pd.DataFrame({'Model':model_column, 'TVD':tvd_column})\n",
    "tvd"
   ]
  },
  {
   "cell_type": "code",
   "execution_count": 33,
   "metadata": {},
   "outputs": [
    {
     "data": {
      "image/png": "[encoded data removed]",
      "text/plain": [
       "<Figure size 600x900 with 3 Axes>"
      ]
     },
     "metadata": {},
     "output_type": "display_data"
    }
   ],
   "source": [
    "import seaborn as sns\n",
    "import matplotlib.pyplot as plt\n",
    "\n",
    "sns.set_palette(\"RdBu\")\n",
    "sns.set(font_scale=1.8)\n",
    "\n",
    "#bins='auto', binwidth=None, binrange=None\n",
    "g = sns.FacetGrid(tvd, row=\"Model\", height=3, aspect=2, sharey=True)\n",
    "g.set_titles(row_template ='{row_name}')\n",
    "g.map(sns.histplot, 'TVD', binwidth=0.05, stat = 'density')\n",
    "\n",
    "g.fig.subplots_adjust(top=0.9) \n",
    "#g.fig.suptitle('Histogram of TVDs \\n between Model-Human Distributions', fontsize=20)\n",
    "\n",
    "plt.savefig('TVD_all_models.pdf', format=\"pdf\",bbox_inches='tight')"
   ]
  },
  {
   "cell_type": "code",
   "execution_count": 35,
   "metadata": {},
   "outputs": [],
   "source": [
    "tvd_centered_gpt2_human_fine_tuned = [tvd_gpt2_human_fine_tuned[i] - tvd_oracle2_human_fine_tuned[i] for i in range(len(tvd_oracle2_human_fine_tuned))]\n",
    "tvd_centered_gpt2_human = [tvd_gpt2_human[i] - tvd_oracle2_human[i] for i in range(len(tvd_oracle2_human))]\n",
    "tvd_centered_oracle1_human = [tvd_oracle1_human[i] - tvd_oracle2_human[i] for i in range(len(tvd_oracle2_human))]"
   ]
  },
  {
   "cell_type": "code",
   "execution_count": 36,
   "metadata": {},
   "outputs": [],
   "source": [
    "model_centered_column = [['Oracle']*len(tvd_centered_oracle1_human)]\n",
    "model_centered_column.append(['GPT2']*len(tvd_centered_gpt2_human))\n",
    "model_centered_column.append(['GPT2 Fine-Tuned']*len(tvd_centered_gpt2_human_fine_tuned))\n",
    "\n",
    "model_centered_column = [item for sublist in model_centered_column for item in sublist]"
   ]
  },
  {
   "cell_type": "code",
   "execution_count": 37,
   "metadata": {},
   "outputs": [],
   "source": [
    "tvd_centered_column = [tvd_centered_oracle1_human]\n",
    "tvd_centered_column.append(tvd_centered_gpt2_human)\n",
    "tvd_centered_column.append(tvd_centered_gpt2_human_fine_tuned)\n",
    "\n",
    "tvd_centered_column = [item for sublist in tvd_centered_column for item in sublist]"
   ]
  },
  {
   "cell_type": "code",
   "execution_count": 38,
   "metadata": {},
   "outputs": [
    {
     "data": {
      "text/html": [
       "<div>\n",
       "<style scoped>\n",
       "    .dataframe tbody tr th:only-of-type {\n",
       "        vertical-align: middle;\n",
       "    }\n",
       "\n",
       "    .dataframe tbody tr th {\n",
       "        vertical-align: top;\n",
       "    }\n",
       "\n",
       "    .dataframe thead th {\n",
       "        text-align: right;\n",
       "    }\n",
       "</style>\n",
       "<table border=\"1\" class=\"dataframe\">\n",
       "  <thead>\n",
       "    <tr style=\"text-align: right;\">\n",
       "      <th></th>\n",
       "      <th>Model</th>\n",
       "      <th>TVD Difference</th>\n",
       "    </tr>\n",
       "  </thead>\n",
       "  <tbody>\n",
       "    <tr>\n",
       "      <th>0</th>\n",
       "      <td>Oracle</td>\n",
       "      <td>-2.980232e-08</td>\n",
       "    </tr>\n",
       "    <tr>\n",
       "      <th>1</th>\n",
       "      <td>Oracle</td>\n",
       "      <td>0.000000e+00</td>\n",
       "    </tr>\n",
       "    <tr>\n",
       "      <th>2</th>\n",
       "      <td>Oracle</td>\n",
       "      <td>2.980232e-08</td>\n",
       "    </tr>\n",
       "    <tr>\n",
       "      <th>3</th>\n",
       "      <td>Oracle</td>\n",
       "      <td>0.000000e+00</td>\n",
       "    </tr>\n",
       "    <tr>\n",
       "      <th>4</th>\n",
       "      <td>Oracle</td>\n",
       "      <td>2.980232e-08</td>\n",
       "    </tr>\n",
       "    <tr>\n",
       "      <th>...</th>\n",
       "      <td>...</td>\n",
       "      <td>...</td>\n",
       "    </tr>\n",
       "    <tr>\n",
       "      <th>5791</th>\n",
       "      <td>GPT2 Fine-Tuned</td>\n",
       "      <td>4.272397e-01</td>\n",
       "    </tr>\n",
       "    <tr>\n",
       "      <th>5792</th>\n",
       "      <td>GPT2 Fine-Tuned</td>\n",
       "      <td>4.273626e-01</td>\n",
       "    </tr>\n",
       "    <tr>\n",
       "      <th>5793</th>\n",
       "      <td>GPT2 Fine-Tuned</td>\n",
       "      <td>6.410527e-01</td>\n",
       "    </tr>\n",
       "    <tr>\n",
       "      <th>5794</th>\n",
       "      <td>GPT2 Fine-Tuned</td>\n",
       "      <td>3.679532e-01</td>\n",
       "    </tr>\n",
       "    <tr>\n",
       "      <th>5795</th>\n",
       "      <td>GPT2 Fine-Tuned</td>\n",
       "      <td>3.918363e-01</td>\n",
       "    </tr>\n",
       "  </tbody>\n",
       "</table>\n",
       "<p>5796 rows × 2 columns</p>\n",
       "</div>"
      ],
      "text/plain": [
       "                Model  TVD Difference\n",
       "0              Oracle   -2.980232e-08\n",
       "1              Oracle    0.000000e+00\n",
       "2              Oracle    2.980232e-08\n",
       "3              Oracle    0.000000e+00\n",
       "4              Oracle    2.980232e-08\n",
       "...               ...             ...\n",
       "5791  GPT2 Fine-Tuned    4.272397e-01\n",
       "5792  GPT2 Fine-Tuned    4.273626e-01\n",
       "5793  GPT2 Fine-Tuned    6.410527e-01\n",
       "5794  GPT2 Fine-Tuned    3.679532e-01\n",
       "5795  GPT2 Fine-Tuned    3.918363e-01\n",
       "\n",
       "[5796 rows x 2 columns]"
      ]
     },
     "execution_count": 38,
     "metadata": {},
     "output_type": "execute_result"
    }
   ],
   "source": [
    "tvd = pd.DataFrame({'Model':model_centered_column, 'TVD Difference':tvd_centered_column})\n",
    "tvd"
   ]
  },
  {
   "cell_type": "code",
   "execution_count": 39,
   "metadata": {},
   "outputs": [
    {
     "data": {
      "image/png": "[encoded data removed]",
      "text/plain": [
       "<Figure size 1000x1500 with 3 Axes>"
      ]
     },
     "metadata": {},
     "output_type": "display_data"
    }
   ],
   "source": [
    "sns.set_palette(\"RdBu\")\n",
    "sns.set(font_scale=2.5)\n",
    "\n",
    "g = sns.FacetGrid(tvd, row=\"Model\", height=5, aspect=2, sharey=True)\n",
    "g.map(sns.histplot, 'TVD Difference', binwidth=0.05, stat = 'density')\n",
    "g.set_titles(row_template ='{row_name}')\n",
    "\n",
    "g.fig.subplots_adjust(top=0.9) \n",
    "g.set(xticks=np.arange(-0.25,1.25,0.25))\n",
    "plt.savefig('TVD_centered_all_models.pdf', format=\"pdf\",bbox_inches='tight')"
   ]
  },
  {
   "cell_type": "code",
   "execution_count": 40,
   "metadata": {},
   "outputs": [],
   "source": [
    "tvd_change = [tvd_gpt2_human_fine_tuned[i] - tvd_gpt2_human[i] for i in range(len(tvd_gpt2_human))]"
   ]
  },
  {
   "cell_type": "code",
   "execution_count": 41,
   "metadata": {},
   "outputs": [
    {
     "data": {
      "text/plain": [
       "(array([1.000e+00, 1.000e+00, 0.000e+00, 1.000e+00, 3.000e+00, 0.000e+00,\n",
       "        1.000e+00, 7.000e+00, 2.000e+00, 1.200e+01, 3.450e+02, 1.389e+03,\n",
       "        1.480e+02, 1.100e+01, 4.000e+00, 0.000e+00, 1.000e+00, 1.000e+00,\n",
       "        0.000e+00, 5.000e+00]),\n",
       " array([-0.87799997, -0.8000947 , -0.72218944, -0.64428417, -0.56637891,\n",
       "        -0.48847364, -0.41056838, -0.33266311, -0.25475785, -0.17685258,\n",
       "        -0.09894732, -0.02104206,  0.05686321,  0.13476847,  0.21267374,\n",
       "         0.290579  ,  0.36848427,  0.44638953,  0.5242948 ,  0.60220006,\n",
       "         0.68010533]),\n",
       " <BarContainer object of 20 artists>)"
      ]
     },
     "execution_count": 41,
     "metadata": {},
     "output_type": "execute_result"
    },
    {
     "data": {
      "image/png": "[encoded data removed]",
      "text/plain": [
       "<Figure size 640x480 with 1 Axes>"
      ]
     },
     "metadata": {},
     "output_type": "display_data"
    }
   ],
   "source": [
    "plt.hist(tvd_change, bins=20, alpha=0.5, label='Fine-tuned model', color='Skyblue', hatch='\\\\')"
   ]
  }
 ],
 "metadata": {
  "kernelspec": {
   "display_name": "Python 3.9.7 ('.venv': venv)",
   "language": "python",
   "name": "python3"
  },
  "language_info": {
   "codemirror_mode": {
    "name": "ipython",
    "version": 3
   },
   "file_extension": ".py",
   "mimetype": "text/x-python",
   "name": "python",
   "nbconvert_exporter": "python",
   "pygments_lexer": "ipython3",
   "version": "3.9.7"
  },
  "orig_nbformat": 4,
  "vscode": {
   "interpreter": {
    "hash": "4cc0e6c5a7ae35f502cb1c81e0551e0f0a11e96b26acb3b8cf76cacb3f3b5e6b"
   }
  }
 },
 "nbformat": 4,
 "nbformat_minor": 2
}
