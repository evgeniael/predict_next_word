{
 "cells": [
  {
   "cell_type": "code",
   "execution_count": 1,
   "id": "a49bd7a6",
   "metadata": {},
   "outputs": [],
   "source": [
    "import numpy as np\n",
    "import matplotlib.pyplot as plt\n",
    "import json"
   ]
  },
  {
   "cell_type": "code",
   "execution_count": 2,
   "id": "b3f82e7f",
   "metadata": {},
   "outputs": [],
   "source": [
    "f = open('cal_metrics.json')\n",
    "\n",
    "data_model = json.load(f)\n",
    "\n",
    "f.close()"
   ]
  },
  {
   "cell_type": "code",
   "execution_count": 3,
   "id": "d698c709",
   "metadata": {},
   "outputs": [],
   "source": [
    "f = open('cal_metrics_oracle.json')\n",
    "\n",
    "data_oracle = json.load(f)\n",
    "\n",
    "f.close()"
   ]
  },
  {
   "cell_type": "code",
   "execution_count": 4,
   "id": "fb8541a1",
   "metadata": {
    "scrolled": false
   },
   "outputs": [
    {
     "data": {
      "text/plain": [
       "dict_keys(['ECE_from_biased_dist_human_maj_truth', 'ECE_from_biased_dist_orig_word_truth', 'ECE_from_unbiased_dist_human_maj_truth', 'ECE_from_unbiased_dist_orig_word_truth', 'TVD_biased_per_instance', 'TVD_unbiased_per_instance', 'TVD_biased_mean_std_min_max', 'TVD_unbiased_mean_std_min_max', 'KL-Divergenece_biased_per_instance', 'KL-Divergenece_biased_mean_std_min_max', 'Entropy_difference_biased_per_instance', 'Entropy_difference_unbiased_per_instance', 'Entropy_difference_biased_mean_std_min_max', 'Entropy_difference_unbiased_mean_std_min_max'])"
      ]
     },
     "execution_count": 4,
     "metadata": {},
     "output_type": "execute_result"
    }
   ],
   "source": [
    "data_model.keys()"
   ]
  },
  {
   "cell_type": "code",
   "execution_count": 5,
   "id": "825ef5b1",
   "metadata": {},
   "outputs": [
    {
     "data": {
      "text/plain": [
       "dict_keys(['oracle1_repl_dict', 'oracle2_repl_dict', 'oracle1_no_repl_dict', 'oracle2_no_repl_dict'])"
      ]
     },
     "execution_count": 5,
     "metadata": {},
     "output_type": "execute_result"
    }
   ],
   "source": [
    "data_oracle.keys()"
   ]
  },
  {
   "cell_type": "code",
   "execution_count": 6,
   "id": "6462d95b",
   "metadata": {},
   "outputs": [
    {
     "data": {
      "text/plain": [
       "dict_keys(['ECE_dist_human_maj_truth', 'ECE_dist_orig_word_truth', 'TVD_per_instance', 'TVD_mean_std_min_max', 'Entropy_difference_per_instance', 'Entropy_difference_mean_std_min_max'])"
      ]
     },
     "execution_count": 6,
     "metadata": {},
     "output_type": "execute_result"
    }
   ],
   "source": [
    "data_oracle['oracle1_repl_dict'].keys()"
   ]
  },
  {
   "cell_type": "markdown",
   "id": "66313706",
   "metadata": {},
   "source": [
    "### Expected Calibration Error"
   ]
  },
  {
   "cell_type": "code",
   "execution_count": 7,
   "id": "105a1fa5",
   "metadata": {},
   "outputs": [
    {
     "name": "stdout",
     "output_type": "stream",
     "text": [
      "Model ECE results\n",
      "Biased dist. and human maj. as truth 0.1302876123769613\n",
      "Biased dist. and orig. word as truth 0.06809301189052314\n",
      "Unbiased dist. and human maj. as truth 0.18551283936765967\n",
      "Unbiased dist. and orig. word as truth 0.016350948903051107\n"
     ]
    }
   ],
   "source": [
    "print('Model ECE results')\n",
    "print('Biased dist. and human maj. as truth', data_model['ECE_from_biased_dist_human_maj_truth'])\n",
    "print('Biased dist. and orig. word as truth', data_model['ECE_from_biased_dist_orig_word_truth'])\n",
    "print('Unbiased dist. and human maj. as truth', data_model['ECE_from_unbiased_dist_human_maj_truth'])\n",
    "print('Unbiased dist. and orig. word as truth', data_model['ECE_from_unbiased_dist_orig_word_truth'])"
   ]
  },
  {
   "cell_type": "code",
   "execution_count": 8,
   "id": "75e18ced",
   "metadata": {
    "scrolled": true
   },
   "outputs": [
    {
     "name": "stdout",
     "output_type": "stream",
     "text": [
      "Oracles (sampling with replacement) ECE results\n",
      "Biased dist. and human maj. as truth 0.5635491848327455 0.4576133850353289\n",
      "Biased dist. and orig. word as truth 0.12160154088366681 0.12160154088366681\n"
     ]
    }
   ],
   "source": [
    "print('Oracles (sampling with replacement) ECE results')\n",
    "print('Biased dist. and human maj. as truth', data_oracle['oracle1_repl_dict']['ECE_dist_human_maj_truth'], data_oracle['oracle2_repl_dict']['ECE_dist_human_maj_truth'])\n",
    "print('Biased dist. and orig. word as truth', data_oracle['oracle1_repl_dict']['ECE_dist_orig_word_truth'], data_oracle['oracle1_repl_dict']['ECE_dist_orig_word_truth'])"
   ]
  },
  {
   "cell_type": "code",
   "execution_count": 9,
   "id": "20e93e6b",
   "metadata": {
    "scrolled": true
   },
   "outputs": [
    {
     "name": "stdout",
     "output_type": "stream",
     "text": [
      "Oracles (sampling without replacement) ECE results\n",
      "Biased dist. and human maj. as truth 0.14708703166275253 0.56326985078582\n",
      "Biased dist. and orig. word as truth 0.12378489570764968 0.12378489570764968\n"
     ]
    }
   ],
   "source": [
    "print('Oracles (sampling without replacement) ECE results')\n",
    "print('Biased dist. and human maj. as truth', data_oracle['oracle1_no_repl_dict']['ECE_dist_human_maj_truth'], data_oracle['oracle2_no_repl_dict']['ECE_dist_human_maj_truth'])\n",
    "print('Biased dist. and orig. word as truth', data_oracle['oracle1_no_repl_dict']['ECE_dist_orig_word_truth'], data_oracle['oracle1_no_repl_dict']['ECE_dist_orig_word_truth'])"
   ]
  },
  {
   "cell_type": "markdown",
   "id": "25a07306",
   "metadata": {},
   "source": [
    "### Total Variation Distance"
   ]
  },
  {
   "cell_type": "markdown",
   "id": "67b72e1b",
   "metadata": {},
   "source": [
    "#### Biased distribution"
   ]
  },
  {
   "cell_type": "code",
   "execution_count": 10,
   "id": "88e852c0",
   "metadata": {},
   "outputs": [
    {
     "name": "stdout",
     "output_type": "stream",
     "text": [
      "TVD metrics (mean, st. dev., min, max)\n",
      "Model [0.6016773299104461, 0.2207977535360531, 0.0009161029483948369, 0.9999999388381751]\n",
      "Oracles (sampling with repl.) [0.20896302809328832, 0.08808164610584943, 0.0, 0.4761904846167281] [0.2035489881362356, 0.08575061987357024, 0.0, 0.4761904855037019]\n",
      "Oracles (sampling without repl.) [0.3198903139720163, 0.14006503310500193, 0.0, 0.6500000093132259] [0.2677155259663032, 0.1281874293210226, 0.0, 0.595238103664347]\n"
     ]
    }
   ],
   "source": [
    "print('TVD metrics (mean, st. dev., min, max)')\n",
    "print('Model', data_model['TVD_biased_mean_std_min_max'])\n",
    "print('Oracles (sampling with repl.)', data_oracle['oracle1_repl_dict']['TVD_mean_std_min_max'],  data_oracle['oracle2_repl_dict']['TVD_mean_std_min_max'])\n",
    "print('Oracles (sampling without repl.)', data_oracle['oracle1_no_repl_dict']['TVD_mean_std_min_max'],  data_oracle['oracle2_no_repl_dict']['TVD_mean_std_min_max'])"
   ]
  },
  {
   "cell_type": "code",
   "execution_count": 11,
   "id": "fa8bb75f",
   "metadata": {
    "scrolled": true
   },
   "outputs": [
    {
     "data": {
      "image/png": "[encoded data removed]",
      "text/plain": [
       "<Figure size 432x288 with 1 Axes>"
      ]
     },
     "metadata": {
      "needs_background": "light"
     },
     "output_type": "display_data"
    }
   ],
   "source": [
    "plt.hist(data_model['TVD_biased_per_instance'], bins=20, alpha=0.5, label='Model')\n",
    "plt.hist(data_oracle['oracle1_repl_dict']['TVD_per_instance'], bins=20, alpha=0.5, label='Oracle 1 (sampl. with replacement)')\n",
    "plt.hist(data_oracle['oracle2_repl_dict']['TVD_per_instance'], bins=20, alpha=0.5, label='Oracle 2 (sampl. with replacement)')\n",
    "\n",
    "plt.title(\"TVD for biased distribution\")\n",
    "plt.legend(loc='lower right')\n",
    "plt.show()"
   ]
  },
  {
   "cell_type": "code",
   "execution_count": 12,
   "id": "64db554f",
   "metadata": {},
   "outputs": [
    {
     "data": {
      "image/png": "[encoded data removed]",
      "text/plain": [
       "<Figure size 432x288 with 1 Axes>"
      ]
     },
     "metadata": {
      "needs_background": "light"
     },
     "output_type": "display_data"
    }
   ],
   "source": [
    "plt.hist(data_model['TVD_biased_per_instance'], bins=20, alpha=0.5, label='Model')\n",
    "plt.hist(data_oracle['oracle1_no_repl_dict']['TVD_per_instance'], bins=20, alpha=0.5, label='Oracle 1 (sampl. without replacement)')\n",
    "plt.hist(data_oracle['oracle2_no_repl_dict']['TVD_per_instance'], bins=20, alpha=0.5, label='Oracle 2 (sampl. without replacement)')\n",
    "\n",
    "plt.title(\"TVD for biased distribution\")\n",
    "plt.legend(loc='lower right')\n",
    "plt.show()"
   ]
  },
  {
   "cell_type": "markdown",
   "id": "e1ebca1c",
   "metadata": {},
   "source": [
    "#### Unbiased Distribution"
   ]
  },
  {
   "cell_type": "code",
   "execution_count": 13,
   "id": "d6320a13",
   "metadata": {},
   "outputs": [
    {
     "name": "stdout",
     "output_type": "stream",
     "text": [
      "TVD metrics (mean, st. dev., min, max)\n",
      "Model [0.6664502276019305, 0.21485069318944772, 0.004000004148110747, 1.0000000228756107]\n"
     ]
    }
   ],
   "source": [
    "print('TVD metrics (mean, st. dev., min, max)')\n",
    "print('Model', data_model['TVD_unbiased_mean_std_min_max'])"
   ]
  },
  {
   "cell_type": "code",
   "execution_count": 14,
   "id": "bde37096",
   "metadata": {},
   "outputs": [
    {
     "data": {
      "image/png": "[encoded data removed]",
      "text/plain": [
       "<Figure size 432x288 with 1 Axes>"
      ]
     },
     "metadata": {
      "needs_background": "light"
     },
     "output_type": "display_data"
    }
   ],
   "source": [
    "plt.hist(data_model['TVD_unbiased_per_instance'], bins=20, alpha=0.5)\n",
    "\n",
    "plt.title(\"TVD for unbiased distribution\")\n",
    "plt.show()"
   ]
  },
  {
   "cell_type": "markdown",
   "id": "a079092d",
   "metadata": {},
   "source": [
    "### KL-Divergence"
   ]
  },
  {
   "cell_type": "markdown",
   "id": "a10ffcd1",
   "metadata": {},
   "source": [
    "#### Biased Distribution"
   ]
  },
  {
   "cell_type": "code",
   "execution_count": 15,
   "id": "4987aceb",
   "metadata": {
    "scrolled": false
   },
   "outputs": [
    {
     "name": "stdout",
     "output_type": "stream",
     "text": [
      "KL-Divergenece metrics (mean, st. dev., min, max)\n",
      "Model [2.3293120382063366, 2.0405160097700614, 0.0009165432877024114, 20.396115605330415]\n"
     ]
    }
   ],
   "source": [
    "print('KL-Divergenece metrics (mean, st. dev., min, max)')\n",
    "print('Model', data_model['KL-Divergenece_biased_mean_std_min_max'])"
   ]
  },
  {
   "cell_type": "code",
   "execution_count": 16,
   "id": "937c4b60",
   "metadata": {
    "scrolled": true
   },
   "outputs": [
    {
     "data": {
      "image/png": "[encoded data removed]",
      "text/plain": [
       "<Figure size 432x288 with 1 Axes>"
      ]
     },
     "metadata": {
      "needs_background": "light"
     },
     "output_type": "display_data"
    }
   ],
   "source": [
    "plt.hist(data_model['KL-Divergenece_biased_per_instance'], bins=20, alpha=0.5)\n",
    "plt.title(\"KL-Divergence for biased distribution\")\n",
    "\n",
    "plt.show()"
   ]
  },
  {
   "cell_type": "markdown",
   "id": "d1647949",
   "metadata": {},
   "source": [
    "### Entropy difference"
   ]
  },
  {
   "cell_type": "markdown",
   "id": "851fcdf8",
   "metadata": {},
   "source": [
    "#### Biased distribution"
   ]
  },
  {
   "cell_type": "code",
   "execution_count": 17,
   "id": "718db60e",
   "metadata": {},
   "outputs": [
    {
     "name": "stdout",
     "output_type": "stream",
     "text": [
      "Entropy difference metrics (mean, st. dev., min, max)\n",
      "Model [-0.9548252923611366, 0.8812976626974632, -4.361507415771484, 2.83367265396434]\n",
      "Oracles (sampling with repl.) [0.14556253216748335, 0.1468999513183909, -0.2797493158758311, 0.6414748227682927] [0.3111901339135552, 0.16464259158044878, -0.23872054491442984, 0.7874082887232876]\n",
      "Oracles (sampling without repl.) [0.16793216702528044, 0.24589848935571346, -0.38268412241436334, 0.9619110469591803] [0.30841947407917575, 0.2476745096798044, -0.1874135819636451, 1.1060572186995001]\n"
     ]
    }
   ],
   "source": [
    "print('Entropy difference metrics (mean, st. dev., min, max)')\n",
    "print('Model', data_model['Entropy_difference_biased_mean_std_min_max'])\n",
    "print('Oracles (sampling with repl.)', data_oracle['oracle1_repl_dict']['Entropy_difference_mean_std_min_max'],  data_oracle['oracle2_repl_dict']['Entropy_difference_mean_std_min_max'])\n",
    "print('Oracles (sampling without repl.)', data_oracle['oracle1_no_repl_dict']['Entropy_difference_mean_std_min_max'],  data_oracle['oracle2_no_repl_dict']['Entropy_difference_mean_std_min_max'])"
   ]
  },
  {
   "cell_type": "code",
   "execution_count": 18,
   "id": "3c521c4f",
   "metadata": {
    "scrolled": false
   },
   "outputs": [
    {
     "data": {
      "image/png": "[encoded data removed]",
      "text/plain": [
       "<Figure size 432x288 with 1 Axes>"
      ]
     },
     "metadata": {
      "needs_background": "light"
     },
     "output_type": "display_data"
    }
   ],
   "source": [
    "plt.hist(data_model['Entropy_difference_biased_per_instance'], bins=20, alpha=0.5, label='Model')\n",
    "plt.hist(data_oracle['oracle1_repl_dict']['Entropy_difference_per_instance'], bins=20, alpha=0.5, label='Oracle 1 (sampl. with replacement)')\n",
    "plt.hist(data_oracle['oracle2_repl_dict']['Entropy_difference_per_instance'], bins=20, alpha=0.5, label='Oracle 2 (sampl. with replacement)')\n",
    "\n",
    "plt.title(\"Entropy difference for biased distribution\")\n",
    "plt.legend(loc='lower right')\n",
    "plt.show()"
   ]
  },
  {
   "cell_type": "code",
   "execution_count": 19,
   "id": "a0771819",
   "metadata": {
    "scrolled": false
   },
   "outputs": [
    {
     "data": {
      "image/png": "[encoded data removed]",
      "text/plain": [
       "<Figure size 432x288 with 1 Axes>"
      ]
     },
     "metadata": {
      "needs_background": "light"
     },
     "output_type": "display_data"
    }
   ],
   "source": [
    "plt.hist(data_model['Entropy_difference_biased_per_instance'], bins=20, alpha=0.5, label='Model')\n",
    "plt.hist(data_oracle['oracle1_no_repl_dict']['Entropy_difference_per_instance'], bins=20, alpha=0.5, label='Oracle 1 (sampl. without repl.)')\n",
    "plt.hist(data_oracle['oracle2_no_repl_dict']['Entropy_difference_per_instance'], bins=20, alpha=0.5, label='Oracle 2 (sampl. without repl.)')\n",
    "\n",
    "plt.title(\"Entropy difference for biased distribution\")\n",
    "plt.legend(loc='upper left')\n",
    "plt.show()"
   ]
  },
  {
   "cell_type": "markdown",
   "id": "2633d66f",
   "metadata": {},
   "source": [
    "#### Unbiased Distribution"
   ]
  },
  {
   "cell_type": "code",
   "execution_count": 20,
   "id": "4fbf049c",
   "metadata": {},
   "outputs": [
    {
     "name": "stdout",
     "output_type": "stream",
     "text": [
      "Entropy difference metrics (mean, st. dev., min, max)\n",
      "Model [-1.8497544905630539, 1.0594360507853844, -5.149153864914582, 2.8010570764497893]\n"
     ]
    }
   ],
   "source": [
    "print('Entropy difference metrics (mean, st. dev., min, max)')\n",
    "print('Model', data_model['Entropy_difference_unbiased_mean_std_min_max'])"
   ]
  },
  {
   "cell_type": "code",
   "execution_count": 21,
   "id": "cf44532e",
   "metadata": {
    "scrolled": false
   },
   "outputs": [
    {
     "data": {
      "image/png": "[encoded data removed]",
      "text/plain": [
       "<Figure size 432x288 with 1 Axes>"
      ]
     },
     "metadata": {
      "needs_background": "light"
     },
     "output_type": "display_data"
    }
   ],
   "source": [
    "plt.hist(data_model['Entropy_difference_unbiased_per_instance'], bins=20, alpha=0.5)\n",
    "\n",
    "plt.title(\"Entropy difference for unbiased distribution\")\n",
    "\n",
    "plt.show()"
   ]
  }
 ],
 "metadata": {
  "kernelspec": {
   "display_name": "Python 3",
   "language": "python",
   "name": "python3"
  },
  "language_info": {
   "codemirror_mode": {
    "name": "ipython",
    "version": 3
   },
   "file_extension": ".py",
   "mimetype": "text/x-python",
   "name": "python",
   "nbconvert_exporter": "python",
   "pygments_lexer": "ipython3",
   "version": "3.8.8"
  }
 },
 "nbformat": 4,
 "nbformat_minor": 5
}
